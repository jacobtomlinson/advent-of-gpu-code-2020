{
 "cells": [
  {
   "cell_type": "code",
   "execution_count": 50,
   "metadata": {},
   "outputs": [],
   "source": [
    "with open(\"input.txt\") as fh:\n",
    "    data = []\n",
    "    item = {}\n",
    "    for line in fh.readlines():\n",
    "        line = line.strip()\n",
    "        if line == \"\":\n",
    "            data.append(item)\n",
    "            item = {}\n",
    "            continue\n",
    "        \n",
    "        values = line.split(\" \")\n",
    "        for value in values:\n",
    "            i, j = value.split(\":\")\n",
    "            item[i] = j #[ord(char) for char in j]\n",
    "    data.append(item)"
   ]
  },
  {
   "cell_type": "markdown",
   "metadata": {},
   "source": [
    "## Part 1"
   ]
  },
  {
   "cell_type": "code",
   "execution_count": 51,
   "metadata": {},
   "outputs": [],
   "source": [
    "import cudf\n",
    "import pandas as pd"
   ]
  },
  {
   "cell_type": "code",
   "execution_count": 52,
   "metadata": {},
   "outputs": [
    {
     "data": {
      "text/html": [
       "<div>\n",
       "<style scoped>\n",
       "    .dataframe tbody tr th:only-of-type {\n",
       "        vertical-align: middle;\n",
       "    }\n",
       "\n",
       "    .dataframe tbody tr th {\n",
       "        vertical-align: top;\n",
       "    }\n",
       "\n",
       "    .dataframe thead th {\n",
       "        text-align: right;\n",
       "    }\n",
       "</style>\n",
       "<table border=\"1\" class=\"dataframe\">\n",
       "  <thead>\n",
       "    <tr style=\"text-align: right;\">\n",
       "      <th></th>\n",
       "      <th>hcl</th>\n",
       "      <th>ecl</th>\n",
       "      <th>iyr</th>\n",
       "      <th>pid</th>\n",
       "      <th>hgt</th>\n",
       "      <th>eyr</th>\n",
       "      <th>byr</th>\n",
       "      <th>cid</th>\n",
       "    </tr>\n",
       "  </thead>\n",
       "  <tbody>\n",
       "    <tr>\n",
       "      <th>0</th>\n",
       "      <td>#6b5442</td>\n",
       "      <td>brn</td>\n",
       "      <td>2019</td>\n",
       "      <td>637485594</td>\n",
       "      <td>171cm</td>\n",
       "      <td>2021</td>\n",
       "      <td>1986</td>\n",
       "      <td>NaN</td>\n",
       "    </tr>\n",
       "    <tr>\n",
       "      <th>1</th>\n",
       "      <td>#341e13</td>\n",
       "      <td>NaN</td>\n",
       "      <td>1938</td>\n",
       "      <td>70195175</td>\n",
       "      <td>66cm</td>\n",
       "      <td>2025</td>\n",
       "      <td>2014</td>\n",
       "      <td>NaN</td>\n",
       "    </tr>\n",
       "    <tr>\n",
       "      <th>2</th>\n",
       "      <td>#efcc98</td>\n",
       "      <td>hzl</td>\n",
       "      <td>2011</td>\n",
       "      <td>589700330</td>\n",
       "      <td>174cm</td>\n",
       "      <td>2020</td>\n",
       "      <td>NaN</td>\n",
       "      <td>NaN</td>\n",
       "    </tr>\n",
       "    <tr>\n",
       "      <th>3</th>\n",
       "      <td>#bba027</td>\n",
       "      <td>brn</td>\n",
       "      <td>2028</td>\n",
       "      <td>153cm</td>\n",
       "      <td>173cm</td>\n",
       "      <td>2027</td>\n",
       "      <td>2004</td>\n",
       "      <td>54</td>\n",
       "    </tr>\n",
       "    <tr>\n",
       "      <th>4</th>\n",
       "      <td>b45cec</td>\n",
       "      <td>oth</td>\n",
       "      <td>2011</td>\n",
       "      <td>178cm</td>\n",
       "      <td>185cm</td>\n",
       "      <td>2029</td>\n",
       "      <td>NaN</td>\n",
       "      <td>NaN</td>\n",
       "    </tr>\n",
       "  </tbody>\n",
       "</table>\n",
       "</div>"
      ],
      "text/plain": [
       "       hcl  ecl   iyr        pid    hgt   eyr   byr  cid\n",
       "0  #6b5442  brn  2019  637485594  171cm  2021  1986  NaN\n",
       "1  #341e13  NaN  1938   70195175   66cm  2025  2014  NaN\n",
       "2  #efcc98  hzl  2011  589700330  174cm  2020   NaN  NaN\n",
       "3  #bba027  brn  2028      153cm  173cm  2027  2004   54\n",
       "4   b45cec  oth  2011      178cm  185cm  2029   NaN  NaN"
      ]
     },
     "execution_count": 52,
     "metadata": {},
     "output_type": "execute_result"
    }
   ],
   "source": [
    "df = pd.DataFrame(data)\n",
    "df.head()"
   ]
  },
  {
   "cell_type": "code",
   "execution_count": 53,
   "metadata": {},
   "outputs": [
    {
     "data": {
      "text/html": [
       "<div>\n",
       "<style scoped>\n",
       "    .dataframe tbody tr th:only-of-type {\n",
       "        vertical-align: middle;\n",
       "    }\n",
       "\n",
       "    .dataframe tbody tr th {\n",
       "        vertical-align: top;\n",
       "    }\n",
       "\n",
       "    .dataframe thead th {\n",
       "        text-align: right;\n",
       "    }\n",
       "</style>\n",
       "<table border=\"1\" class=\"dataframe\">\n",
       "  <thead>\n",
       "    <tr style=\"text-align: right;\">\n",
       "      <th></th>\n",
       "      <th>hcl</th>\n",
       "      <th>ecl</th>\n",
       "      <th>iyr</th>\n",
       "      <th>pid</th>\n",
       "      <th>hgt</th>\n",
       "      <th>eyr</th>\n",
       "      <th>byr</th>\n",
       "      <th>cid</th>\n",
       "    </tr>\n",
       "  </thead>\n",
       "  <tbody>\n",
       "    <tr>\n",
       "      <th>0</th>\n",
       "      <td>#6b5442</td>\n",
       "      <td>brn</td>\n",
       "      <td>2019</td>\n",
       "      <td>637485594</td>\n",
       "      <td>171cm</td>\n",
       "      <td>2021</td>\n",
       "      <td>1986</td>\n",
       "      <td>&lt;NA&gt;</td>\n",
       "    </tr>\n",
       "    <tr>\n",
       "      <th>1</th>\n",
       "      <td>#341e13</td>\n",
       "      <td>&lt;NA&gt;</td>\n",
       "      <td>1938</td>\n",
       "      <td>70195175</td>\n",
       "      <td>66cm</td>\n",
       "      <td>2025</td>\n",
       "      <td>2014</td>\n",
       "      <td>&lt;NA&gt;</td>\n",
       "    </tr>\n",
       "    <tr>\n",
       "      <th>2</th>\n",
       "      <td>#efcc98</td>\n",
       "      <td>hzl</td>\n",
       "      <td>2011</td>\n",
       "      <td>589700330</td>\n",
       "      <td>174cm</td>\n",
       "      <td>2020</td>\n",
       "      <td>&lt;NA&gt;</td>\n",
       "      <td>&lt;NA&gt;</td>\n",
       "    </tr>\n",
       "    <tr>\n",
       "      <th>3</th>\n",
       "      <td>#bba027</td>\n",
       "      <td>brn</td>\n",
       "      <td>2028</td>\n",
       "      <td>153cm</td>\n",
       "      <td>173cm</td>\n",
       "      <td>2027</td>\n",
       "      <td>2004</td>\n",
       "      <td>54</td>\n",
       "    </tr>\n",
       "    <tr>\n",
       "      <th>4</th>\n",
       "      <td>b45cec</td>\n",
       "      <td>oth</td>\n",
       "      <td>2011</td>\n",
       "      <td>178cm</td>\n",
       "      <td>185cm</td>\n",
       "      <td>2029</td>\n",
       "      <td>&lt;NA&gt;</td>\n",
       "      <td>&lt;NA&gt;</td>\n",
       "    </tr>\n",
       "  </tbody>\n",
       "</table>\n",
       "</div>"
      ],
      "text/plain": [
       "       hcl   ecl   iyr        pid    hgt   eyr   byr   cid\n",
       "0  #6b5442   brn  2019  637485594  171cm  2021  1986  <NA>\n",
       "1  #341e13  <NA>  1938   70195175   66cm  2025  2014  <NA>\n",
       "2  #efcc98   hzl  2011  589700330  174cm  2020  <NA>  <NA>\n",
       "3  #bba027   brn  2028      153cm  173cm  2027  2004    54\n",
       "4   b45cec   oth  2011      178cm  185cm  2029  <NA>  <NA>"
      ]
     },
     "execution_count": 53,
     "metadata": {},
     "output_type": "execute_result"
    }
   ],
   "source": [
    "gdf = cudf.DataFrame.from_pandas(df)\n",
    "gdf.head()"
   ]
  },
  {
   "cell_type": "code",
   "execution_count": 54,
   "metadata": {},
   "outputs": [
    {
     "data": {
      "text/html": [
       "<div>\n",
       "<style scoped>\n",
       "    .dataframe tbody tr th:only-of-type {\n",
       "        vertical-align: middle;\n",
       "    }\n",
       "\n",
       "    .dataframe tbody tr th {\n",
       "        vertical-align: top;\n",
       "    }\n",
       "\n",
       "    .dataframe thead th {\n",
       "        text-align: right;\n",
       "    }\n",
       "</style>\n",
       "<table border=\"1\" class=\"dataframe\">\n",
       "  <thead>\n",
       "    <tr style=\"text-align: right;\">\n",
       "      <th></th>\n",
       "      <th>hcl</th>\n",
       "      <th>ecl</th>\n",
       "      <th>iyr</th>\n",
       "      <th>pid</th>\n",
       "      <th>hgt</th>\n",
       "      <th>eyr</th>\n",
       "      <th>byr</th>\n",
       "      <th>cid</th>\n",
       "    </tr>\n",
       "  </thead>\n",
       "  <tbody>\n",
       "    <tr>\n",
       "      <th>0</th>\n",
       "      <td>#6b5442</td>\n",
       "      <td>brn</td>\n",
       "      <td>2019</td>\n",
       "      <td>637485594</td>\n",
       "      <td>171cm</td>\n",
       "      <td>2021</td>\n",
       "      <td>1986</td>\n",
       "      <td>&lt;NA&gt;</td>\n",
       "    </tr>\n",
       "    <tr>\n",
       "      <th>3</th>\n",
       "      <td>#bba027</td>\n",
       "      <td>brn</td>\n",
       "      <td>2028</td>\n",
       "      <td>153cm</td>\n",
       "      <td>173cm</td>\n",
       "      <td>2027</td>\n",
       "      <td>2004</td>\n",
       "      <td>54</td>\n",
       "    </tr>\n",
       "    <tr>\n",
       "      <th>6</th>\n",
       "      <td>6962f7</td>\n",
       "      <td>oth</td>\n",
       "      <td>1974</td>\n",
       "      <td>2616015</td>\n",
       "      <td>191cm</td>\n",
       "      <td>2025</td>\n",
       "      <td>2015</td>\n",
       "      <td>&lt;NA&gt;</td>\n",
       "    </tr>\n",
       "    <tr>\n",
       "      <th>7</th>\n",
       "      <td>#18171d</td>\n",
       "      <td>grn</td>\n",
       "      <td>2019</td>\n",
       "      <td>268398556</td>\n",
       "      <td>67cm</td>\n",
       "      <td>2027</td>\n",
       "      <td>1951</td>\n",
       "      <td>&lt;NA&gt;</td>\n",
       "    </tr>\n",
       "    <tr>\n",
       "      <th>8</th>\n",
       "      <td>#623a2f</td>\n",
       "      <td>brn</td>\n",
       "      <td>1957</td>\n",
       "      <td>183179186</td>\n",
       "      <td>153cm</td>\n",
       "      <td>2029</td>\n",
       "      <td>2013</td>\n",
       "      <td>&lt;NA&gt;</td>\n",
       "    </tr>\n",
       "    <tr>\n",
       "      <th>...</th>\n",
       "      <td>...</td>\n",
       "      <td>...</td>\n",
       "      <td>...</td>\n",
       "      <td>...</td>\n",
       "      <td>...</td>\n",
       "      <td>...</td>\n",
       "      <td>...</td>\n",
       "      <td>...</td>\n",
       "    </tr>\n",
       "    <tr>\n",
       "      <th>252</th>\n",
       "      <td>3f59a6</td>\n",
       "      <td>oth</td>\n",
       "      <td>2018</td>\n",
       "      <td>217404607</td>\n",
       "      <td>179cm</td>\n",
       "      <td>2036</td>\n",
       "      <td>2025</td>\n",
       "      <td>&lt;NA&gt;</td>\n",
       "    </tr>\n",
       "    <tr>\n",
       "      <th>253</th>\n",
       "      <td>#efcc98</td>\n",
       "      <td>amb</td>\n",
       "      <td>2012</td>\n",
       "      <td>820370865</td>\n",
       "      <td>170cm</td>\n",
       "      <td>2025</td>\n",
       "      <td>1967</td>\n",
       "      <td>309</td>\n",
       "    </tr>\n",
       "    <tr>\n",
       "      <th>255</th>\n",
       "      <td>#efcc98</td>\n",
       "      <td>brn</td>\n",
       "      <td>2014</td>\n",
       "      <td>556900517</td>\n",
       "      <td>186cm</td>\n",
       "      <td>&lt;NA&gt;</td>\n",
       "      <td>1971</td>\n",
       "      <td>334</td>\n",
       "    </tr>\n",
       "    <tr>\n",
       "      <th>257</th>\n",
       "      <td>a3046e</td>\n",
       "      <td>lzr</td>\n",
       "      <td>2029</td>\n",
       "      <td>626863952</td>\n",
       "      <td>193cm</td>\n",
       "      <td>2024</td>\n",
       "      <td>2000</td>\n",
       "      <td>233</td>\n",
       "    </tr>\n",
       "    <tr>\n",
       "      <th>258</th>\n",
       "      <td>#866857</td>\n",
       "      <td>amb</td>\n",
       "      <td>2013</td>\n",
       "      <td>557376401</td>\n",
       "      <td>182cm</td>\n",
       "      <td>1928</td>\n",
       "      <td>1931</td>\n",
       "      <td>244</td>\n",
       "    </tr>\n",
       "  </tbody>\n",
       "</table>\n",
       "<p>220 rows × 8 columns</p>\n",
       "</div>"
      ],
      "text/plain": [
       "         hcl  ecl   iyr        pid    hgt   eyr   byr   cid\n",
       "0    #6b5442  brn  2019  637485594  171cm  2021  1986  <NA>\n",
       "3    #bba027  brn  2028      153cm  173cm  2027  2004    54\n",
       "6     6962f7  oth  1974    2616015  191cm  2025  2015  <NA>\n",
       "7    #18171d  grn  2019  268398556   67cm  2027  1951  <NA>\n",
       "8    #623a2f  brn  1957  183179186  153cm  2029  2013  <NA>\n",
       "..       ...  ...   ...        ...    ...   ...   ...   ...\n",
       "252   3f59a6  oth  2018  217404607  179cm  2036  2025  <NA>\n",
       "253  #efcc98  amb  2012  820370865  170cm  2025  1967   309\n",
       "255  #efcc98  brn  2014  556900517  186cm  <NA>  1971   334\n",
       "257   a3046e  lzr  2029  626863952  193cm  2024  2000   233\n",
       "258  #866857  amb  2013  557376401  182cm  1928  1931   244\n",
       "\n",
       "[220 rows x 8 columns]"
      ]
     },
     "execution_count": 54,
     "metadata": {},
     "output_type": "execute_result"
    }
   ],
   "source": [
    "one_nan = gdf[gdf.isnull().sum(axis=1) < 2]\n",
    "one_nan"
   ]
  },
  {
   "cell_type": "code",
   "execution_count": 55,
   "metadata": {},
   "outputs": [
    {
     "data": {
      "text/html": [
       "<div>\n",
       "<style scoped>\n",
       "    .dataframe tbody tr th:only-of-type {\n",
       "        vertical-align: middle;\n",
       "    }\n",
       "\n",
       "    .dataframe tbody tr th {\n",
       "        vertical-align: top;\n",
       "    }\n",
       "\n",
       "    .dataframe thead th {\n",
       "        text-align: right;\n",
       "    }\n",
       "</style>\n",
       "<table border=\"1\" class=\"dataframe\">\n",
       "  <thead>\n",
       "    <tr style=\"text-align: right;\">\n",
       "      <th></th>\n",
       "      <th>hcl</th>\n",
       "      <th>ecl</th>\n",
       "      <th>iyr</th>\n",
       "      <th>pid</th>\n",
       "      <th>hgt</th>\n",
       "      <th>eyr</th>\n",
       "      <th>byr</th>\n",
       "    </tr>\n",
       "  </thead>\n",
       "  <tbody>\n",
       "    <tr>\n",
       "      <th>0</th>\n",
       "      <td>#6b5442</td>\n",
       "      <td>brn</td>\n",
       "      <td>2019</td>\n",
       "      <td>637485594</td>\n",
       "      <td>171cm</td>\n",
       "      <td>2021</td>\n",
       "      <td>1986</td>\n",
       "    </tr>\n",
       "    <tr>\n",
       "      <th>1</th>\n",
       "      <td>#341e13</td>\n",
       "      <td>&lt;NA&gt;</td>\n",
       "      <td>1938</td>\n",
       "      <td>70195175</td>\n",
       "      <td>66cm</td>\n",
       "      <td>2025</td>\n",
       "      <td>2014</td>\n",
       "    </tr>\n",
       "    <tr>\n",
       "      <th>2</th>\n",
       "      <td>#efcc98</td>\n",
       "      <td>hzl</td>\n",
       "      <td>2011</td>\n",
       "      <td>589700330</td>\n",
       "      <td>174cm</td>\n",
       "      <td>2020</td>\n",
       "      <td>&lt;NA&gt;</td>\n",
       "    </tr>\n",
       "    <tr>\n",
       "      <th>3</th>\n",
       "      <td>#bba027</td>\n",
       "      <td>brn</td>\n",
       "      <td>2028</td>\n",
       "      <td>153cm</td>\n",
       "      <td>173cm</td>\n",
       "      <td>2027</td>\n",
       "      <td>2004</td>\n",
       "    </tr>\n",
       "    <tr>\n",
       "      <th>4</th>\n",
       "      <td>b45cec</td>\n",
       "      <td>oth</td>\n",
       "      <td>2011</td>\n",
       "      <td>178cm</td>\n",
       "      <td>185cm</td>\n",
       "      <td>2029</td>\n",
       "      <td>&lt;NA&gt;</td>\n",
       "    </tr>\n",
       "    <tr>\n",
       "      <th>...</th>\n",
       "      <td>...</td>\n",
       "      <td>...</td>\n",
       "      <td>...</td>\n",
       "      <td>...</td>\n",
       "      <td>...</td>\n",
       "      <td>...</td>\n",
       "      <td>...</td>\n",
       "    </tr>\n",
       "    <tr>\n",
       "      <th>254</th>\n",
       "      <td>#602927</td>\n",
       "      <td>gry</td>\n",
       "      <td>&lt;NA&gt;</td>\n",
       "      <td>008495978</td>\n",
       "      <td>159cm</td>\n",
       "      <td>2024</td>\n",
       "      <td>1940</td>\n",
       "    </tr>\n",
       "    <tr>\n",
       "      <th>255</th>\n",
       "      <td>#efcc98</td>\n",
       "      <td>brn</td>\n",
       "      <td>2014</td>\n",
       "      <td>556900517</td>\n",
       "      <td>186cm</td>\n",
       "      <td>&lt;NA&gt;</td>\n",
       "      <td>1971</td>\n",
       "    </tr>\n",
       "    <tr>\n",
       "      <th>256</th>\n",
       "      <td>#7d3b0c</td>\n",
       "      <td>grn</td>\n",
       "      <td>2020</td>\n",
       "      <td>&lt;NA&gt;</td>\n",
       "      <td>193cm</td>\n",
       "      <td>&lt;NA&gt;</td>\n",
       "      <td>1928</td>\n",
       "    </tr>\n",
       "    <tr>\n",
       "      <th>257</th>\n",
       "      <td>a3046e</td>\n",
       "      <td>lzr</td>\n",
       "      <td>2029</td>\n",
       "      <td>626863952</td>\n",
       "      <td>193cm</td>\n",
       "      <td>2024</td>\n",
       "      <td>2000</td>\n",
       "    </tr>\n",
       "    <tr>\n",
       "      <th>258</th>\n",
       "      <td>#866857</td>\n",
       "      <td>amb</td>\n",
       "      <td>2013</td>\n",
       "      <td>557376401</td>\n",
       "      <td>182cm</td>\n",
       "      <td>1928</td>\n",
       "      <td>1931</td>\n",
       "    </tr>\n",
       "  </tbody>\n",
       "</table>\n",
       "<p>259 rows × 7 columns</p>\n",
       "</div>"
      ],
      "text/plain": [
       "         hcl   ecl   iyr        pid    hgt   eyr   byr\n",
       "0    #6b5442   brn  2019  637485594  171cm  2021  1986\n",
       "1    #341e13  <NA>  1938   70195175   66cm  2025  2014\n",
       "2    #efcc98   hzl  2011  589700330  174cm  2020  <NA>\n",
       "3    #bba027   brn  2028      153cm  173cm  2027  2004\n",
       "4     b45cec   oth  2011      178cm  185cm  2029  <NA>\n",
       "..       ...   ...   ...        ...    ...   ...   ...\n",
       "254  #602927   gry  <NA>  008495978  159cm  2024  1940\n",
       "255  #efcc98   brn  2014  556900517  186cm  <NA>  1971\n",
       "256  #7d3b0c   grn  2020       <NA>  193cm  <NA>  1928\n",
       "257   a3046e   lzr  2029  626863952  193cm  2024  2000\n",
       "258  #866857   amb  2013  557376401  182cm  1928  1931\n",
       "\n",
       "[259 rows x 7 columns]"
      ]
     },
     "execution_count": 55,
     "metadata": {},
     "output_type": "execute_result"
    }
   ],
   "source": [
    "del gdf[\"cid\"]\n",
    "gdf"
   ]
  },
  {
   "cell_type": "code",
   "execution_count": 101,
   "metadata": {},
   "outputs": [
    {
     "data": {
      "text/html": [
       "<div>\n",
       "<style scoped>\n",
       "    .dataframe tbody tr th:only-of-type {\n",
       "        vertical-align: middle;\n",
       "    }\n",
       "\n",
       "    .dataframe tbody tr th {\n",
       "        vertical-align: top;\n",
       "    }\n",
       "\n",
       "    .dataframe thead th {\n",
       "        text-align: right;\n",
       "    }\n",
       "</style>\n",
       "<table border=\"1\" class=\"dataframe\">\n",
       "  <thead>\n",
       "    <tr style=\"text-align: right;\">\n",
       "      <th></th>\n",
       "      <th>hcl</th>\n",
       "      <th>ecl</th>\n",
       "      <th>iyr</th>\n",
       "      <th>pid</th>\n",
       "      <th>hgt</th>\n",
       "      <th>eyr</th>\n",
       "      <th>byr</th>\n",
       "    </tr>\n",
       "  </thead>\n",
       "  <tbody>\n",
       "    <tr>\n",
       "      <th>0</th>\n",
       "      <td>#6b5442</td>\n",
       "      <td>brn</td>\n",
       "      <td>2019</td>\n",
       "      <td>637485594</td>\n",
       "      <td>171cm</td>\n",
       "      <td>2021</td>\n",
       "      <td>1986</td>\n",
       "    </tr>\n",
       "    <tr>\n",
       "      <th>3</th>\n",
       "      <td>#bba027</td>\n",
       "      <td>brn</td>\n",
       "      <td>2028</td>\n",
       "      <td>153cm</td>\n",
       "      <td>173cm</td>\n",
       "      <td>2027</td>\n",
       "      <td>2004</td>\n",
       "    </tr>\n",
       "    <tr>\n",
       "      <th>6</th>\n",
       "      <td>6962f7</td>\n",
       "      <td>oth</td>\n",
       "      <td>1974</td>\n",
       "      <td>2616015</td>\n",
       "      <td>191cm</td>\n",
       "      <td>2025</td>\n",
       "      <td>2015</td>\n",
       "    </tr>\n",
       "    <tr>\n",
       "      <th>7</th>\n",
       "      <td>#18171d</td>\n",
       "      <td>grn</td>\n",
       "      <td>2019</td>\n",
       "      <td>268398556</td>\n",
       "      <td>67cm</td>\n",
       "      <td>2027</td>\n",
       "      <td>1951</td>\n",
       "    </tr>\n",
       "    <tr>\n",
       "      <th>8</th>\n",
       "      <td>#623a2f</td>\n",
       "      <td>brn</td>\n",
       "      <td>1957</td>\n",
       "      <td>183179186</td>\n",
       "      <td>153cm</td>\n",
       "      <td>2029</td>\n",
       "      <td>2013</td>\n",
       "    </tr>\n",
       "    <tr>\n",
       "      <th>...</th>\n",
       "      <td>...</td>\n",
       "      <td>...</td>\n",
       "      <td>...</td>\n",
       "      <td>...</td>\n",
       "      <td>...</td>\n",
       "      <td>...</td>\n",
       "      <td>...</td>\n",
       "    </tr>\n",
       "    <tr>\n",
       "      <th>251</th>\n",
       "      <td>#cfa07d</td>\n",
       "      <td>brn</td>\n",
       "      <td>2010</td>\n",
       "      <td>379769214</td>\n",
       "      <td>169cm</td>\n",
       "      <td>2027</td>\n",
       "      <td>1960</td>\n",
       "    </tr>\n",
       "    <tr>\n",
       "      <th>252</th>\n",
       "      <td>3f59a6</td>\n",
       "      <td>oth</td>\n",
       "      <td>2018</td>\n",
       "      <td>217404607</td>\n",
       "      <td>179cm</td>\n",
       "      <td>2036</td>\n",
       "      <td>2025</td>\n",
       "    </tr>\n",
       "    <tr>\n",
       "      <th>253</th>\n",
       "      <td>#efcc98</td>\n",
       "      <td>amb</td>\n",
       "      <td>2012</td>\n",
       "      <td>820370865</td>\n",
       "      <td>170cm</td>\n",
       "      <td>2025</td>\n",
       "      <td>1967</td>\n",
       "    </tr>\n",
       "    <tr>\n",
       "      <th>257</th>\n",
       "      <td>a3046e</td>\n",
       "      <td>lzr</td>\n",
       "      <td>2029</td>\n",
       "      <td>626863952</td>\n",
       "      <td>193cm</td>\n",
       "      <td>2024</td>\n",
       "      <td>2000</td>\n",
       "    </tr>\n",
       "    <tr>\n",
       "      <th>258</th>\n",
       "      <td>#866857</td>\n",
       "      <td>amb</td>\n",
       "      <td>2013</td>\n",
       "      <td>557376401</td>\n",
       "      <td>182cm</td>\n",
       "      <td>1928</td>\n",
       "      <td>1931</td>\n",
       "    </tr>\n",
       "  </tbody>\n",
       "</table>\n",
       "<p>196 rows × 7 columns</p>\n",
       "</div>"
      ],
      "text/plain": [
       "         hcl  ecl   iyr        pid    hgt   eyr   byr\n",
       "0    #6b5442  brn  2019  637485594  171cm  2021  1986\n",
       "3    #bba027  brn  2028      153cm  173cm  2027  2004\n",
       "6     6962f7  oth  1974    2616015  191cm  2025  2015\n",
       "7    #18171d  grn  2019  268398556   67cm  2027  1951\n",
       "8    #623a2f  brn  1957  183179186  153cm  2029  2013\n",
       "..       ...  ...   ...        ...    ...   ...   ...\n",
       "251  #cfa07d  brn  2010  379769214  169cm  2027  1960\n",
       "252   3f59a6  oth  2018  217404607  179cm  2036  2025\n",
       "253  #efcc98  amb  2012  820370865  170cm  2025  1967\n",
       "257   a3046e  lzr  2029  626863952  193cm  2024  2000\n",
       "258  #866857  amb  2013  557376401  182cm  1928  1931\n",
       "\n",
       "[196 rows x 7 columns]"
      ]
     },
     "execution_count": 101,
     "metadata": {},
     "output_type": "execute_result"
    }
   ],
   "source": [
    "valid_passports = gdf[~gdf.isna().any(axis=1)]\n",
    "valid_passports"
   ]
  },
  {
   "cell_type": "markdown",
   "metadata": {},
   "source": [
    "## Part 2\n",
    "\n",
    "I'm using regular expressions which makes me sad."
   ]
  },
  {
   "cell_type": "markdown",
   "metadata": {},
   "source": [
    "### Hair"
   ]
  },
  {
   "cell_type": "code",
   "execution_count": 102,
   "metadata": {},
   "outputs": [
    {
     "data": {
      "text/plain": [
       "146"
      ]
     },
     "execution_count": 102,
     "metadata": {},
     "output_type": "execute_result"
    }
   ],
   "source": [
    "valid_passports = valid_passports[valid_passports.hcl.str.match(\"^#[0-9a-f]{6}$\")]\n",
    "len(valid_passports)"
   ]
  },
  {
   "cell_type": "markdown",
   "metadata": {},
   "source": [
    "### Eye colour"
   ]
  },
  {
   "cell_type": "code",
   "execution_count": 103,
   "metadata": {},
   "outputs": [
    {
     "data": {
      "text/plain": [
       "134"
      ]
     },
     "execution_count": 103,
     "metadata": {},
     "output_type": "execute_result"
    }
   ],
   "source": [
    "valid_passports = valid_passports[valid_passports.ecl.str.match(\"^(amb|blu|brn|gry|grn|hzl|oth)$\")]\n",
    "len(valid_passports)"
   ]
  },
  {
   "cell_type": "markdown",
   "metadata": {},
   "source": [
    "### Passport ID"
   ]
  },
  {
   "cell_type": "code",
   "execution_count": 104,
   "metadata": {},
   "outputs": [
    {
     "data": {
      "text/plain": [
       "127"
      ]
     },
     "execution_count": 104,
     "metadata": {},
     "output_type": "execute_result"
    }
   ],
   "source": [
    "valid_passports = valid_passports[valid_passports.pid.str.match(\"^[0-9]{9}$\")]\n",
    "len(valid_passports)"
   ]
  },
  {
   "cell_type": "markdown",
   "metadata": {},
   "source": [
    "### Birth year"
   ]
  },
  {
   "cell_type": "code",
   "execution_count": 111,
   "metadata": {},
   "outputs": [
    {
     "data": {
      "text/plain": [
       "125"
      ]
     },
     "execution_count": 111,
     "metadata": {},
     "output_type": "execute_result"
    }
   ],
   "source": [
    "valid_passports = valid_passports[valid_passports.byr.str.match(\"^(19|20)(00|01|02|[2-9]{1}[0-9]{1})$\")]\n",
    "len(valid_passports)"
   ]
  },
  {
   "cell_type": "markdown",
   "metadata": {},
   "source": [
    "### Expiration year"
   ]
  },
  {
   "cell_type": "code",
   "execution_count": 113,
   "metadata": {},
   "outputs": [
    {
     "data": {
      "text/plain": [
       "120"
      ]
     },
     "execution_count": 113,
     "metadata": {},
     "output_type": "execute_result"
    }
   ],
   "source": [
    "valid_passports = valid_passports[valid_passports.eyr.str.match(\"^20(20|21|22|23|24|25|26|27|28|29|30)$\")]\n",
    "len(valid_passports)"
   ]
  },
  {
   "cell_type": "markdown",
   "metadata": {},
   "source": [
    "### Issue year"
   ]
  },
  {
   "cell_type": "code",
   "execution_count": 114,
   "metadata": {},
   "outputs": [
    {
     "data": {
      "text/plain": [
       "118"
      ]
     },
     "execution_count": 114,
     "metadata": {},
     "output_type": "execute_result"
    }
   ],
   "source": [
    "valid_passports = valid_passports[valid_passports.iyr.str.match(\"^20(10|11|12|13|14|15|16|17|18|19|20)$\")]\n",
    "len(valid_passports)"
   ]
  },
  {
   "cell_type": "markdown",
   "metadata": {},
   "source": [
    "### Height"
   ]
  },
  {
   "cell_type": "code",
   "execution_count": 134,
   "metadata": {},
   "outputs": [
    {
     "data": {
      "text/plain": [
       "114"
      ]
     },
     "execution_count": 134,
     "metadata": {},
     "output_type": "execute_result"
    }
   ],
   "source": [
    "valid_passports = valid_passports[valid_passports.hgt.str.match(\"^1(9[0-3]|[5-8][0-9])cm$\") | valid_passports.hgt.str.match(\"^(59|6[0-9]|7[0-6])in$\")]\n",
    "len(valid_passports)"
   ]
  },
  {
   "cell_type": "code",
   "execution_count": null,
   "metadata": {},
   "outputs": [],
   "source": []
  }
 ],
 "metadata": {
  "kernelspec": {
   "display_name": "Python 3",
   "language": "python",
   "name": "python3"
  },
  "language_info": {
   "codemirror_mode": {
    "name": "ipython",
    "version": 3
   },
   "file_extension": ".py",
   "mimetype": "text/x-python",
   "name": "python",
   "nbconvert_exporter": "python",
   "pygments_lexer": "ipython3",
   "version": "3.8.6"
  }
 },
 "nbformat": 4,
 "nbformat_minor": 4
}
