{
 "cells": [
  {
   "cell_type": "code",
   "execution_count": 1,
   "metadata": {},
   "outputs": [],
   "source": [
    "from numba import cuda\n",
    "import numpy as np"
   ]
  },
  {
   "cell_type": "markdown",
   "metadata": {},
   "source": [
    "## Data cleaning"
   ]
  },
  {
   "cell_type": "code",
   "execution_count": 5,
   "metadata": {},
   "outputs": [],
   "source": [
    "with open(\"input.txt\") as fh:\n",
    "    inputs = [row.split(\":\") for row in fh.readlines()]\n",
    "    inputs = [(*rule.split(\" \"), password.strip()) for rule, password in inputs]\n",
    "    inputs = [(*boundaries.split(\"-\"), letter, password) for boundaries, letter, password in inputs]\n",
    "    inputs = [(int(lower), int(upper), letter, password) for lower, upper, letter, password in inputs]\n",
    "    \n",
    "    lowers = [x[0] for x in inputs]\n",
    "    uppers = [x[1] for x in inputs]\n",
    "    letters = [ord(x[2]) for x in inputs]\n",
    "    passwords = [[ord(char) for char in x[3]] for x in inputs]\n",
    "    lengths = [len(password) for password in passwords]\n",
    "    \n",
    "    max_length = max(lengths)\n",
    "    for i in range(len(passwords)):\n",
    "        if len(passwords[i]) < max_length:\n",
    "            passwords[i].extend([0] * (max_length - len(passwords[i])))\n",
    "            \n",
    "    dtype = [\n",
    "        ('lower', '<i4'),\n",
    "        ('upper', '<i4'),\n",
    "        ('letter', '<i4'),\n",
    "        ('length', '<i4'),\n",
    "        ('password', '<i4', max(lengths))\n",
    "    ]\n",
    "\n",
    "    entries = np.array(list(zip(lowers, uppers, letters, lengths, passwords)),\n",
    "                       dtype=dtype)"
   ]
  },
  {
   "cell_type": "code",
   "execution_count": 8,
   "metadata": {},
   "outputs": [
    {
     "data": {
      "text/plain": [
       "array([( 1,  9, 120, 14, [120, 119, 106, 103, 120, 116, 109, 114, 122, 120, 122, 109, 107, 120,   0,   0,   0,   0,   0,   0]),\n",
       "       ( 4,  6, 114,  7, [114, 114, 114, 107, 114, 103, 114,   0,   0,   0,   0,   0,   0,   0,   0,   0,   0,   0,   0,   0]),\n",
       "       ( 4,  5, 118,  7, [118, 118, 102, 118, 118, 118, 110,   0,   0,   0,   0,   0,   0,   0,   0,   0,   0,   0,   0,   0]),\n",
       "       ( 5, 16, 109, 16, [112, 120, 109, 114, 116, 109,  98, 109, 113, 109,  99, 108, 100, 109, 109, 109,   0,   0,   0,   0]),\n",
       "       (15, 16, 115, 20, [ 98, 115, 115, 104, 115, 115, 122, 115, 108, 115, 115, 115, 115, 115, 108, 113, 100, 115, 115, 115]),\n",
       "       (10, 12, 103, 13, [103, 103, 103, 103, 103, 103, 103, 103, 103, 122, 103, 118, 103,   0,   0,   0,   0,   0,   0,   0]),\n",
       "       ( 2,  7, 110,  7, [100, 110, 116, 110, 114, 110, 103,   0,   0,   0,   0,   0,   0,   0,   0,   0,   0,   0,   0,   0]),\n",
       "       (11, 14, 106, 16, [120, 114, 106, 102, 108,  98, 109, 106, 115, 122, 122, 106,  98, 106, 106, 104,   0,   0,   0,   0]),\n",
       "       ( 2,  6, 114, 11, [102, 114, 120, 114, 114, 114, 102, 106, 110, 109, 114,   0,   0,   0,   0,   0,   0,   0,   0,   0]),\n",
       "       ( 6,  7, 104, 10, [104, 112, 108, 104, 103,  99, 115, 112, 104, 104,   0,   0,   0,   0,   0,   0,   0,   0,   0,   0])],\n",
       "      dtype=[('lower', '<i4'), ('upper', '<i4'), ('letter', '<i4'), ('length', '<i4'), ('password', '<i4', (20,))])"
      ]
     },
     "execution_count": 8,
     "metadata": {},
     "output_type": "execute_result"
    }
   ],
   "source": [
    "entries[:10]"
   ]
  },
  {
   "cell_type": "code",
   "execution_count": 9,
   "metadata": {},
   "outputs": [
    {
     "data": {
      "text/plain": [
       "array([0.])"
      ]
     },
     "execution_count": 9,
     "metadata": {},
     "output_type": "execute_result"
    }
   ],
   "source": [
    "answer = np.zeros(1)\n",
    "answer"
   ]
  },
  {
   "cell_type": "markdown",
   "metadata": {},
   "source": [
    "## Part 1"
   ]
  },
  {
   "cell_type": "code",
   "execution_count": 14,
   "metadata": {},
   "outputs": [],
   "source": [
    "@cuda.jit\n",
    "def is_password_valid(entries, answer):\n",
    "    pos = cuda.grid(1)\n",
    "    if pos < len(entries):     \n",
    "        entry = entries[pos]\n",
    "        lower = entry[\"lower\"]\n",
    "        upper = entry[\"upper\"]\n",
    "        letter = entry[\"letter\"]\n",
    "        password = entry[\"password\"]\n",
    "        length = entry[\"length\"]\n",
    "        \n",
    "        count = 0\n",
    "        for i in range(length):\n",
    "            if password[i] == letter:\n",
    "                count += 1 \n",
    "        \n",
    "        if count >= lower and count <= upper:\n",
    "            cuda.atomic.add(answer, 0, 1)"
   ]
  },
  {
   "cell_type": "code",
   "execution_count": 15,
   "metadata": {},
   "outputs": [],
   "source": [
    "threadsperblock = 128\n",
    "blockspergrid = (len(entries) + (threadsperblock - 1)) // threadsperblock"
   ]
  },
  {
   "cell_type": "code",
   "execution_count": 16,
   "metadata": {},
   "outputs": [
    {
     "data": {
      "text/plain": [
       "array([640.])"
      ]
     },
     "execution_count": 16,
     "metadata": {},
     "output_type": "execute_result"
    }
   ],
   "source": [
    "is_password_valid[blockspergrid, threadsperblock](entries, answer)\n",
    "answer"
   ]
  },
  {
   "cell_type": "markdown",
   "metadata": {},
   "source": [
    "## Part 2"
   ]
  },
  {
   "cell_type": "code",
   "execution_count": 18,
   "metadata": {},
   "outputs": [
    {
     "data": {
      "text/plain": [
       "array([472.])"
      ]
     },
     "execution_count": 18,
     "metadata": {},
     "output_type": "execute_result"
    }
   ],
   "source": [
    "answer = np.zeros(1)\n",
    "\n",
    "@cuda.jit\n",
    "def is_password_valid_2(entries, answer):\n",
    "    pos = cuda.grid(1)\n",
    "    if pos < len(entries):     \n",
    "        entry = entries[pos]\n",
    "        lower = entry[\"lower\"]\n",
    "        upper = entry[\"upper\"]\n",
    "        letter = entry[\"letter\"]\n",
    "        password = entry[\"password\"]\n",
    "        length = entry[\"length\"]\n",
    "        \n",
    "        count = 0\n",
    "        if password[lower-1] == letter:\n",
    "            count += 1\n",
    "        if password[upper-1] == letter:\n",
    "            count += 1\n",
    "        \n",
    "        if count == 1:\n",
    "            cuda.atomic.add(answer, 0, 1)\n",
    "\n",
    "is_password_valid_2[blockspergrid, threadsperblock](entries, answer)\n",
    "answer"
   ]
  }
 ],
 "metadata": {
  "kernelspec": {
   "display_name": "Python 3",
   "language": "python",
   "name": "python3"
  },
  "language_info": {
   "codemirror_mode": {
    "name": "ipython",
    "version": 3
   },
   "file_extension": ".py",
   "mimetype": "text/x-python",
   "name": "python",
   "nbconvert_exporter": "python",
   "pygments_lexer": "ipython3",
   "version": "3.8.6"
  }
 },
 "nbformat": 4,
 "nbformat_minor": 4
}
