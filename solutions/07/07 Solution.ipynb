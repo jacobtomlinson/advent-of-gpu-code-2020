{
 "cells": [
  {
   "cell_type": "markdown",
   "metadata": {},
   "source": [
    "# Day 07\n",
    "\n",
    "## Process input data"
   ]
  },
  {
   "cell_type": "code",
   "execution_count": 1,
   "metadata": {},
   "outputs": [],
   "source": [
    "import networkx as nx\n",
    "import cugraph as cnx"
   ]
  },
  {
   "cell_type": "code",
   "execution_count": 2,
   "metadata": {},
   "outputs": [],
   "source": [
    "def read_data(filename):\n",
    "    with open(filename) as fh:\n",
    "        rules = [line.strip() for line in fh.readlines()]\n",
    "        graph = nx.DiGraph()\n",
    "        for rule in rules:\n",
    "            if \"contain no other bags\" in rule:\n",
    "                continue\n",
    "            start, edges = rule.split(\" contain \")\n",
    "            start = start.replace(\" bags\", \"\")\n",
    "            edges = [edge.split(\" \", 1) for edge in edges.replace(\".\", \"\").split(\", \")]\n",
    "            edges = [(node.replace(\" bags\", \"\").replace(\" bag\", \"\"), start, int(weight)) for weight, node in edges]\n",
    "            for start, stop, weight in edges:\n",
    "                graph.add_edge(start, stop, weight=weight)\n",
    "    return graph"
   ]
  },
  {
   "cell_type": "code",
   "execution_count": 3,
   "metadata": {},
   "outputs": [],
   "source": [
    "graph = read_data(\"input.txt\")"
   ]
  },
  {
   "cell_type": "markdown",
   "metadata": {},
   "source": [
    "## Part 1"
   ]
  },
  {
   "cell_type": "code",
   "execution_count": 6,
   "metadata": {},
   "outputs": [
    {
     "data": {
      "text/plain": [
       "148"
      ]
     },
     "execution_count": 6,
     "metadata": {},
     "output_type": "execute_result"
    }
   ],
   "source": [
    "len(set([bag for bag, _ in list(nx.bfs_predecessors(graph, source=\"shiny gold\"))]))"
   ]
  },
  {
   "cell_type": "markdown",
   "metadata": {},
   "source": [
    "## Part 2"
   ]
  },
  {
   "cell_type": "code",
   "execution_count": 7,
   "metadata": {},
   "outputs": [],
   "source": [
    "def count_bags(bag, graph):\n",
    "    count = 0\n",
    "    for nested_bag in graph.predecessors(bag):\n",
    "        weight = graph.get_edge_data(nested_bag, bag)[\"weight\"]\n",
    "        count += weight + weight * count_bags(nested_bag, graph)\n",
    "    return count"
   ]
  },
  {
   "cell_type": "code",
   "execution_count": 8,
   "metadata": {},
   "outputs": [
    {
     "data": {
      "text/plain": [
       "24867"
      ]
     },
     "execution_count": 8,
     "metadata": {},
     "output_type": "execute_result"
    }
   ],
   "source": [
    "count_bags(\"shiny gold\", graph)"
   ]
  },
  {
   "cell_type": "code",
   "execution_count": null,
   "metadata": {},
   "outputs": [],
   "source": []
  }
 ],
 "metadata": {
  "kernelspec": {
   "display_name": "Python 3",
   "language": "python",
   "name": "python3"
  },
  "language_info": {
   "codemirror_mode": {
    "name": "ipython",
    "version": 3
   },
   "file_extension": ".py",
   "mimetype": "text/x-python",
   "name": "python",
   "nbconvert_exporter": "python",
   "pygments_lexer": "ipython3",
   "version": "3.8.6"
  }
 },
 "nbformat": 4,
 "nbformat_minor": 4
}
