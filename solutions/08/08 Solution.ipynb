{
 "cells": [
  {
   "cell_type": "markdown",
   "metadata": {},
   "source": [
    "# Day 08"
   ]
  },
  {
   "cell_type": "markdown",
   "metadata": {},
   "source": [
    "## Process input data"
   ]
  },
  {
   "cell_type": "code",
   "execution_count": 5,
   "metadata": {},
   "outputs": [],
   "source": [
    "def read_data(filename):\n",
    "    with open(filename) as fh:\n",
    "        data = []\n",
    "        for row in fh.readlines():\n",
    "            row = row.strip()\n",
    "            operation, counter = row.split(\" \")\n",
    "            counter = int(counter)\n",
    "            data.append((operation, counter))\n",
    "    return data"
   ]
  },
  {
   "cell_type": "code",
   "execution_count": 11,
   "metadata": {},
   "outputs": [
    {
     "data": {
      "text/plain": [
       "[('acc', 14),\n",
       " ('acc', 11),\n",
       " ('nop', 422),\n",
       " ('acc', 14),\n",
       " ('jmp', 443),\n",
       " ('acc', 21),\n",
       " ('nop', 524),\n",
       " ('acc', -2),\n",
       " ('jmp', 279),\n",
       " ('jmp', 1)]"
      ]
     },
     "execution_count": 11,
     "metadata": {},
     "output_type": "execute_result"
    }
   ],
   "source": [
    "data = read_data(\"input.txt\")\n",
    "data[:10]"
   ]
  },
  {
   "cell_type": "markdown",
   "metadata": {},
   "source": [
    "## Part 1"
   ]
  },
  {
   "cell_type": "code",
   "execution_count": 12,
   "metadata": {},
   "outputs": [],
   "source": [
    "executed = []\n",
    "accumulator = 0\n",
    "pointer = 0"
   ]
  },
  {
   "cell_type": "code",
   "execution_count": 13,
   "metadata": {},
   "outputs": [
    {
     "data": {
      "text/plain": [
       "1675"
      ]
     },
     "execution_count": 13,
     "metadata": {},
     "output_type": "execute_result"
    }
   ],
   "source": [
    "while pointer not in executed:\n",
    "    operation, counter = data[pointer]\n",
    "    executed.append(pointer)\n",
    "    \n",
    "    if operation == \"acc\":\n",
    "        accumulator += counter\n",
    "        pointer += 1\n",
    "    if operation == \"jmp\":\n",
    "        pointer += counter\n",
    "    if operation == \"nop\":\n",
    "        pointer += 1\n",
    "        \n",
    "accumulator"
   ]
  },
  {
   "cell_type": "markdown",
   "metadata": {},
   "source": [
    "## Read data for GPU"
   ]
  },
  {
   "cell_type": "code",
   "execution_count": 1,
   "metadata": {},
   "outputs": [],
   "source": [
    "import numpy as np\n",
    "from numba import cuda"
   ]
  },
  {
   "cell_type": "code",
   "execution_count": 2,
   "metadata": {},
   "outputs": [],
   "source": [
    "intruction_key = {\n",
    "    \"acc\": 0,\n",
    "    \"jmp\": 1, \n",
    "    \"nop\": 2\n",
    "}\n",
    "\n",
    "def read_data_gpu(filename):\n",
    "    with open(filename) as fh:\n",
    "        data = []\n",
    "        for row in fh.readlines():\n",
    "            row = row.strip()\n",
    "            operation, counter = row.split(\" \")\n",
    "            counter = int(counter)\n",
    "            operation = intruction_key[operation]\n",
    "            data.append(np.asarray([operation, counter]))\n",
    "    return np.asarray(data)"
   ]
  },
  {
   "cell_type": "code",
   "execution_count": 30,
   "metadata": {},
   "outputs": [
    {
     "data": {
      "text/plain": [
       "array([[  0,  14],\n",
       "       [  0,  11],\n",
       "       [  2, 422],\n",
       "       ...,\n",
       "       [  0,  22],\n",
       "       [  0,  10],\n",
       "       [  1,   1]])"
      ]
     },
     "execution_count": 30,
     "metadata": {},
     "output_type": "execute_result"
    }
   ],
   "source": [
    "instructions = read_data_gpu(\"input.txt\")\n",
    "instructions"
   ]
  },
  {
   "cell_type": "code",
   "execution_count": 31,
   "metadata": {},
   "outputs": [
    {
     "data": {
      "text/plain": [
       "array([  2,   4,   6,   8,   9,  12,  16,  17,  19,  21,  22,  25,  27,\n",
       "        29,  31,  33,  38,  39,  43,  47,  48,  50,  51,  52,  55,  57,\n",
       "        58,  59,  63,  64,  69,  74,  77,  79,  83,  86,  87,  91,  94,\n",
       "        99, 100, 101, 103, 106, 107, 111, 114, 115, 116, 120, 121, 122,\n",
       "       125, 130, 132, 135, 136, 140, 143, 144, 148, 149, 150, 151, 156,\n",
       "       159, 160, 161, 166, 171, 175, 176, 181, 186, 187, 188, 189, 190,\n",
       "       191, 192, 193, 194, 195, 200, 203, 206, 207, 209, 210, 213, 214,\n",
       "       218, 219, 220, 221, 222, 223, 224, 226, 229, 232, 237, 239, 241,\n",
       "       243, 244, 246, 247, 250, 252, 254, 256, 257, 261, 265, 269, 271,\n",
       "       273, 274, 275, 277, 278, 280, 281, 284, 286, 287, 289, 291, 292,\n",
       "       294, 297, 298, 300, 301, 302, 303, 304, 306, 310, 311, 315, 316,\n",
       "       317, 320, 322, 325, 326, 327, 329, 330, 334, 336, 338, 343, 346,\n",
       "       348, 351, 353, 356, 357, 358, 359, 360, 363, 364, 366, 368, 370,\n",
       "       372, 373, 376, 377, 381, 382, 383, 384, 388, 393, 394, 396, 400,\n",
       "       402, 403, 406, 408, 410, 411, 412, 415, 416, 417, 418, 423, 424,\n",
       "       426, 431, 433, 434, 438, 439, 440, 442, 446, 451, 453, 455, 458,\n",
       "       459, 461, 465, 468, 469, 473, 477, 478, 479, 480, 482, 483, 485,\n",
       "       486, 487, 488, 489, 491, 494, 495, 496, 497, 500, 501, 503, 508,\n",
       "       510, 512, 513, 515, 517, 520, 522, 524, 526, 529, 530, 531, 535,\n",
       "       536, 539, 541, 545, 549, 554, 556, 557, 558, 559, 562, 565, 566,\n",
       "       567, 568, 569, 571, 572, 575, 577, 578, 579, 581, 582, 585, 587,\n",
       "       589, 590, 592, 596, 599, 604])"
      ]
     },
     "execution_count": 31,
     "metadata": {},
     "output_type": "execute_result"
    }
   ],
   "source": [
    "[bits_to_flip] = np.where(instructions[:, 0]>0)\n",
    "bits_to_flip"
   ]
  },
  {
   "cell_type": "code",
   "execution_count": 32,
   "metadata": {},
   "outputs": [],
   "source": [
    "@cuda.jit\n",
    "def brute_force_flips(bits_to_flip, instructions, output):\n",
    "    pos = cuda.grid(1)\n",
    "    if pos < len(bits_to_flip):\n",
    "        flip = bits_to_flip[pos]\n",
    "        \n",
    "        accumulator = 0\n",
    "        pointer = 0\n",
    "        call_count = 0\n",
    "        \n",
    "        while call_count <= len(instructions):\n",
    "            call_count += 1 \n",
    "            operation, counter = instructions[pointer]\n",
    "            \n",
    "            # Flip bit\n",
    "            if pointer == flip:\n",
    "                if operation == 1:\n",
    "                    operation = 2\n",
    "                elif operation == 2:\n",
    "                    operation = 1\n",
    "\n",
    "            if operation == 0:\n",
    "                accumulator += counter\n",
    "                pointer += 1\n",
    "            if operation == 1:\n",
    "                pointer += counter\n",
    "            if operation == 2:\n",
    "                pointer += 1\n",
    "                \n",
    "            if pointer == len(instructions):\n",
    "                output[pos] = accumulator\n",
    "                break"
   ]
  },
  {
   "cell_type": "code",
   "execution_count": 33,
   "metadata": {},
   "outputs": [],
   "source": [
    "threadsperblock = 128\n",
    "blockspergrid = (len(bits_to_flip) + (threadsperblock - 1)) // threadsperblock"
   ]
  },
  {
   "cell_type": "code",
   "execution_count": 34,
   "metadata": {},
   "outputs": [
    {
     "data": {
      "text/plain": [
       "1532.0"
      ]
     },
     "execution_count": 34,
     "metadata": {},
     "output_type": "execute_result"
    }
   ],
   "source": [
    "output = np.zeros(len(bits_to_flip))\n",
    "brute_force_flips[blockspergrid, threadsperblock](bits_to_flip, instructions, output)\n",
    "max(output)"
   ]
  },
  {
   "cell_type": "code",
   "execution_count": null,
   "metadata": {},
   "outputs": [],
   "source": []
  }
 ],
 "metadata": {
  "kernelspec": {
   "display_name": "Python 3",
   "language": "python",
   "name": "python3"
  },
  "language_info": {
   "codemirror_mode": {
    "name": "ipython",
    "version": 3
   },
   "file_extension": ".py",
   "mimetype": "text/x-python",
   "name": "python",
   "nbconvert_exporter": "python",
   "pygments_lexer": "ipython3",
   "version": "3.8.6"
  }
 },
 "nbformat": 4,
 "nbformat_minor": 4
}
