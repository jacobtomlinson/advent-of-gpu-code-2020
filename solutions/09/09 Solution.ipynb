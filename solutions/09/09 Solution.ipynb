{
 "cells": [
  {
   "cell_type": "markdown",
   "metadata": {},
   "source": [
    "# Day 06"
   ]
  },
  {
   "cell_type": "markdown",
   "metadata": {},
   "source": [
    "## Process input data"
   ]
  },
  {
   "cell_type": "code",
   "execution_count": 1,
   "metadata": {},
   "outputs": [],
   "source": [
    "import numpy as np"
   ]
  },
  {
   "cell_type": "code",
   "execution_count": 2,
   "metadata": {},
   "outputs": [],
   "source": [
    "def read_data(filename):\n",
    "    with open (filename) as fh:\n",
    "        data = np.asarray([int(line.strip()) for line in fh.readlines()])\n",
    "    return data"
   ]
  },
  {
   "cell_type": "code",
   "execution_count": 3,
   "metadata": {},
   "outputs": [],
   "source": [
    "sample_transmission = read_data(\"sample.txt\")\n",
    "transmission = read_data(\"input.txt\")"
   ]
  },
  {
   "cell_type": "code",
   "execution_count": 4,
   "metadata": {},
   "outputs": [
    {
     "data": {
      "text/plain": [
       "1000"
      ]
     },
     "execution_count": 4,
     "metadata": {},
     "output_type": "execute_result"
    }
   ],
   "source": [
    "len(transmission)"
   ]
  },
  {
   "cell_type": "code",
   "execution_count": 5,
   "metadata": {},
   "outputs": [],
   "source": [
    "PREAMBLE_SIZE = 25"
   ]
  },
  {
   "cell_type": "markdown",
   "metadata": {},
   "source": [
    "## Part 1"
   ]
  },
  {
   "cell_type": "code",
   "execution_count": 6,
   "metadata": {},
   "outputs": [],
   "source": [
    "from numba import cuda"
   ]
  },
  {
   "cell_type": "code",
   "execution_count": 7,
   "metadata": {},
   "outputs": [],
   "source": [
    "@cuda.jit\n",
    "def validate_number(transmission, output):\n",
    "    pos = cuda.grid(1)\n",
    "    if pos < len(transmission) - PREAMBLE_SIZE:\n",
    "        preamble = transmission[pos:pos+PREAMBLE_SIZE]\n",
    "        next_number = transmission[pos+PREAMBLE_SIZE]\n",
    "        for i in range(PREAMBLE_SIZE):\n",
    "            for j in range(PREAMBLE_SIZE):\n",
    "                if i != j and preamble[i] != preamble[j]:\n",
    "                    if preamble[i] + preamble[j] == next_number:\n",
    "                        output[pos] = 1"
   ]
  },
  {
   "cell_type": "code",
   "execution_count": 8,
   "metadata": {},
   "outputs": [],
   "source": [
    "threadsperblock = 128\n",
    "blockspergrid = (len(transmission) - PREAMBLE_SIZE + (threadsperblock - 1)) // threadsperblock"
   ]
  },
  {
   "cell_type": "code",
   "execution_count": 21,
   "metadata": {},
   "outputs": [
    {
     "data": {
      "text/plain": [
       "1309761972"
      ]
     },
     "execution_count": 21,
     "metadata": {},
     "output_type": "execute_result"
    }
   ],
   "source": [
    "output = np.zeros(len(transmission) - PREAMBLE_SIZE)\n",
    "validate_number[blockspergrid, threadsperblock](transmission, output)\n",
    "transmission[np.where(output == 0)[0][0] + PREAMBLE_SIZE]"
   ]
  },
  {
   "cell_type": "markdown",
   "metadata": {},
   "source": [
    "## Part 2"
   ]
  },
  {
   "cell_type": "code",
   "execution_count": 17,
   "metadata": {},
   "outputs": [],
   "source": [
    "TARGET_NUMBER = 1309761972"
   ]
  },
  {
   "cell_type": "code",
   "execution_count": 18,
   "metadata": {},
   "outputs": [],
   "source": [
    "@cuda.jit\n",
    "def contiguous_search(transmission, target, output):\n",
    "    pos = cuda.grid(1)\n",
    "    if pos < len(transmission):\n",
    "        acc = transmission[pos]\n",
    "        counter = 1\n",
    "        while acc < target and counter + pos < len(transmission):\n",
    "            acc = 0\n",
    "            n_min = 0\n",
    "            n_max = 0\n",
    "            for n in transmission[pos:pos+counter]:\n",
    "                if n_min == 0 or n < n_min:\n",
    "                    n_min = n\n",
    "                if n_max == 0 or n > n_max:\n",
    "                    n_max = n\n",
    "                acc += n\n",
    "            counter += 1\n",
    "            if acc == TARGET_NUMBER:\n",
    "                output[pos] = n_min + n_max"
   ]
  },
  {
   "cell_type": "code",
   "execution_count": 19,
   "metadata": {},
   "outputs": [],
   "source": [
    "threadsperblock = 128\n",
    "blockspergrid = (len(transmission) + (threadsperblock - 1)) // threadsperblock"
   ]
  },
  {
   "cell_type": "code",
   "execution_count": 20,
   "metadata": {},
   "outputs": [
    {
     "data": {
      "text/plain": [
       "177989832"
      ]
     },
     "execution_count": 20,
     "metadata": {},
     "output_type": "execute_result"
    }
   ],
   "source": [
    "output = np.zeros(len(transmission))\n",
    "contiguous_search[blockspergrid, threadsperblock](transmission, TARGET_NUMBER, output)\n",
    "int(output[np.where(output != 0)[0][0]])"
   ]
  },
  {
   "cell_type": "code",
   "execution_count": null,
   "metadata": {},
   "outputs": [],
   "source": []
  }
 ],
 "metadata": {
  "kernelspec": {
   "display_name": "Python 3",
   "language": "python",
   "name": "python3"
  },
  "language_info": {
   "codemirror_mode": {
    "name": "ipython",
    "version": 3
   },
   "file_extension": ".py",
   "mimetype": "text/x-python",
   "name": "python",
   "nbconvert_exporter": "python",
   "pygments_lexer": "ipython3",
   "version": "3.8.6"
  }
 },
 "nbformat": 4,
 "nbformat_minor": 4
}
