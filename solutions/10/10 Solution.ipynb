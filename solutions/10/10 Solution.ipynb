{
 "cells": [
  {
   "cell_type": "markdown",
   "metadata": {},
   "source": [
    "# Day 10"
   ]
  },
  {
   "cell_type": "markdown",
   "metadata": {},
   "source": [
    "## Process input data"
   ]
  },
  {
   "cell_type": "code",
   "execution_count": 3,
   "metadata": {},
   "outputs": [],
   "source": [
    "import numpy as np"
   ]
  },
  {
   "cell_type": "code",
   "execution_count": 4,
   "metadata": {},
   "outputs": [],
   "source": [
    "def read_data(filename):\n",
    "    with open (filename) as fh:\n",
    "        data = np.asarray([int(line.strip()) for line in fh.readlines()])\n",
    "        \n",
    "    built_in_adapter = max(data) + 3\n",
    "    data = np.append(data, [0, built_in_adapter])\n",
    "    data.sort()\n",
    "    return data"
   ]
  },
  {
   "cell_type": "code",
   "execution_count": 77,
   "metadata": {},
   "outputs": [
    {
     "data": {
      "text/plain": [
       "array([  0,   1,   2,   3,   4,   7,   8,   9,  12,  15,  16,  17,  18,\n",
       "        19,  22,  25,  28,  29,  32,  35,  36,  37,  40,  41,  42,  43,\n",
       "        44,  47,  48,  49,  50,  51,  54,  57,  60,  61,  62,  63,  66,\n",
       "        69,  70,  71,  74,  75,  76,  77,  80,  81,  82,  83,  84,  87,\n",
       "        88,  89,  90,  91,  94,  97,  98,  99, 100, 103, 104, 105, 106,\n",
       "       109, 110, 111, 112, 115, 116, 117, 118, 121, 122, 123, 124, 127,\n",
       "       128, 131, 132, 133, 134, 135, 138, 141, 142, 143, 144, 147, 148,\n",
       "       149, 150, 153, 156, 159, 160, 161, 162, 163, 166, 167, 168, 169,\n",
       "       172])"
      ]
     },
     "execution_count": 77,
     "metadata": {},
     "output_type": "execute_result"
    }
   ],
   "source": [
    "joltages = read_data(\"input.txt\")\n",
    "joltages"
   ]
  },
  {
   "cell_type": "markdown",
   "metadata": {},
   "source": [
    "## Part 1"
   ]
  },
  {
   "cell_type": "code",
   "execution_count": 15,
   "metadata": {},
   "outputs": [],
   "source": [
    "from numba import cuda"
   ]
  },
  {
   "cell_type": "code",
   "execution_count": 67,
   "metadata": {},
   "outputs": [],
   "source": [
    "@cuda.jit\n",
    "def calculate_intervals(joltages, output):\n",
    "    pos = cuda.grid(1)\n",
    "    if pos < len(joltages) - 1:\n",
    "        output[pos] = joltages[pos + 1] - joltages[pos]"
   ]
  },
  {
   "cell_type": "code",
   "execution_count": 68,
   "metadata": {},
   "outputs": [],
   "source": [
    "threadsperblock = 128\n",
    "blockspergrid = (len(joltages) - 1 + (threadsperblock - 1)) // threadsperblock"
   ]
  },
  {
   "cell_type": "code",
   "execution_count": 69,
   "metadata": {},
   "outputs": [
    {
     "data": {
      "text/plain": [
       "array([1., 1., 1., 1., 3., 1., 1., 3., 3., 1., 1., 1., 1., 3., 3., 3., 1.,\n",
       "       3., 3., 1., 1., 3., 1., 1., 1., 1., 3., 1., 1., 1., 1., 3., 3., 3.,\n",
       "       1., 1., 1., 3., 3., 1., 1., 3., 1., 1., 1., 3., 1., 1., 1., 1., 3.,\n",
       "       1., 1., 1., 1., 3., 3., 1., 1., 1., 3., 1., 1., 1., 3., 1., 1., 1.,\n",
       "       3., 1., 1., 1., 3., 1., 1., 1., 3., 1., 3., 1., 1., 1., 1., 3., 3.,\n",
       "       1., 1., 1., 3., 1., 1., 1., 3., 3., 3., 1., 1., 1., 1., 3., 1., 1.,\n",
       "       1., 3.])"
      ]
     },
     "execution_count": 69,
     "metadata": {},
     "output_type": "execute_result"
    }
   ],
   "source": [
    "output = np.zeros(len(joltages) - 1)\n",
    "calculate_intervals[blockspergrid, threadsperblock](joltages, output)\n",
    "output"
   ]
  },
  {
   "cell_type": "code",
   "execution_count": 70,
   "metadata": {},
   "outputs": [
    {
     "data": {
      "text/plain": [
       "70"
      ]
     },
     "execution_count": 70,
     "metadata": {},
     "output_type": "execute_result"
    }
   ],
   "source": [
    "[ones] = np.where(output==1)\n",
    "len(ones)"
   ]
  },
  {
   "cell_type": "code",
   "execution_count": 71,
   "metadata": {},
   "outputs": [
    {
     "data": {
      "text/plain": [
       "34"
      ]
     },
     "execution_count": 71,
     "metadata": {},
     "output_type": "execute_result"
    }
   ],
   "source": [
    "[threes] = np.where(output==3)\n",
    "len(threes)"
   ]
  },
  {
   "cell_type": "code",
   "execution_count": 72,
   "metadata": {},
   "outputs": [
    {
     "data": {
      "text/plain": [
       "2380"
      ]
     },
     "execution_count": 72,
     "metadata": {},
     "output_type": "execute_result"
    }
   ],
   "source": [
    "len(ones) * len(threes)"
   ]
  },
  {
   "cell_type": "markdown",
   "metadata": {},
   "source": [
    "## Part 2\n",
    "\n",
    "Because of the linked nature of this calculation it doesn't make sense to parallelise.\n",
    "\n",
    "Copied from [this solution](https://gist.github.com/Battleman/b5a6e171cc4660e69fd51507f73c9190), but converted to CUDA."
   ]
  },
  {
   "cell_type": "code",
   "execution_count": 37,
   "metadata": {},
   "outputs": [],
   "source": [
    "joltages = read_data(\"input.txt\")"
   ]
  },
  {
   "cell_type": "code",
   "execution_count": 39,
   "metadata": {},
   "outputs": [
    {
     "name": "stdout",
     "output_type": "stream",
     "text": [
      "48358655787008\n"
     ]
    }
   ],
   "source": [
    "linkers = {n: 1 for n in joltages}\n",
    "for i, n1 in enumerate(joltages):\n",
    "    for j in (i+2, i+3):\n",
    "        if j < len(joltages) and joltages[j] - n1 <= 3:\n",
    "            for n2 in joltages[j:]:\n",
    "                linkers[n2] += linkers[n1]\n",
    "    \n",
    "print(linkers[max(joltages)])"
   ]
  },
  {
   "cell_type": "code",
   "execution_count": null,
   "metadata": {},
   "outputs": [],
   "source": []
  }
 ],
 "metadata": {
  "kernelspec": {
   "display_name": "Python 3",
   "language": "python",
   "name": "python3"
  },
  "language_info": {
   "codemirror_mode": {
    "name": "ipython",
    "version": 3
   },
   "file_extension": ".py",
   "mimetype": "text/x-python",
   "name": "python",
   "nbconvert_exporter": "python",
   "pygments_lexer": "ipython3",
   "version": "3.8.6"
  }
 },
 "nbformat": 4,
 "nbformat_minor": 4
}
