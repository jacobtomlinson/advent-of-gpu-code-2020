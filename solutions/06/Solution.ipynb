{
 "cells": [
  {
   "cell_type": "markdown",
   "metadata": {},
   "source": [
    "# Day 06\n",
    "\n",
    "## Read input"
   ]
  },
  {
   "cell_type": "code",
   "execution_count": 3,
   "metadata": {},
   "outputs": [],
   "source": [
    "with open(\"input.txt\") as fh:\n",
    "    groups = []\n",
    "    \n",
    "    group_answers = {\"count\": 0, \"answers\": {}}\n",
    "    for row in fh.readlines():\n",
    "        row = row.strip()\n",
    "        if row == \"\":\n",
    "            groups.append(group_answers)\n",
    "            group_answers = {\"count\": 0, \"answers\": {}}\n",
    "            continue\n",
    "        for c in row:\n",
    "            try:\n",
    "                group_answers[\"answers\"][c] += 1\n",
    "            except KeyError:\n",
    "                group_answers[\"answers\"][c] = 1\n",
    "        group_answers[\"count\"] += 1\n",
    "    groups.append(group_answers)"
   ]
  },
  {
   "cell_type": "markdown",
   "metadata": {},
   "source": [
    "## Part 1"
   ]
  },
  {
   "cell_type": "code",
   "execution_count": 4,
   "metadata": {},
   "outputs": [
    {
     "data": {
      "text/plain": [
       "6778"
      ]
     },
     "execution_count": 4,
     "metadata": {},
     "output_type": "execute_result"
    }
   ],
   "source": [
    "sum([len(set(group[\"answers\"].keys())) for group in groups])"
   ]
  },
  {
   "cell_type": "markdown",
   "metadata": {},
   "source": [
    "## Part 2"
   ]
  },
  {
   "cell_type": "code",
   "execution_count": 5,
   "metadata": {},
   "outputs": [
    {
     "data": {
      "text/plain": [
       "{'count': 3,\n",
       " 'answers': {'u': 3, 'k': 3, 'r': 3, 'p': 3, 'f': 3, 'l': 3, 'a': 3}}"
      ]
     },
     "execution_count": 5,
     "metadata": {},
     "output_type": "execute_result"
    }
   ],
   "source": [
    "group_answers"
   ]
  },
  {
   "cell_type": "code",
   "execution_count": 12,
   "metadata": {},
   "outputs": [
    {
     "data": {
      "text/plain": [
       "3406"
      ]
     },
     "execution_count": 12,
     "metadata": {},
     "output_type": "execute_result"
    }
   ],
   "source": [
    "sum([item for sublist in [[group[\"answers\"][answer] == group[\"count\"] for answer in group[\"answers\"]] for group in groups] for item in sublist])"
   ]
  },
  {
   "cell_type": "markdown",
   "metadata": {},
   "source": [
    "## Trying GPU"
   ]
  },
  {
   "cell_type": "code",
   "execution_count": 13,
   "metadata": {},
   "outputs": [],
   "source": [
    "import string"
   ]
  },
  {
   "cell_type": "code",
   "execution_count": 17,
   "metadata": {},
   "outputs": [],
   "source": [
    "with open(\"input.txt\") as fh:\n",
    "    groups = []\n",
    "    \n",
    "    group_answers = {letter: 0 for letter in list(string.ascii_lowercase)}\n",
    "    group_answers[\"count\"] = 0\n",
    "    \n",
    "    for row in fh.readlines():\n",
    "        row = row.strip()\n",
    "        if row == \"\":\n",
    "            groups.append(group_answers)\n",
    "            group_answers = {letter: 0 for letter in list(string.ascii_lowercase)}\n",
    "            group_answers[\"count\"] = 0\n",
    "            continue\n",
    "            \n",
    "        for c in row:\n",
    "            group_answers[c] += 1\n",
    "        group_answers[\"count\"] += 1\n",
    "    groups.append(group_answers)"
   ]
  },
  {
   "cell_type": "code",
   "execution_count": 20,
   "metadata": {},
   "outputs": [],
   "source": [
    "import pandas as pd\n",
    "import cudf"
   ]
  },
  {
   "cell_type": "code",
   "execution_count": 21,
   "metadata": {},
   "outputs": [
    {
     "data": {
      "text/html": [
       "<div>\n",
       "<style scoped>\n",
       "    .dataframe tbody tr th:only-of-type {\n",
       "        vertical-align: middle;\n",
       "    }\n",
       "\n",
       "    .dataframe tbody tr th {\n",
       "        vertical-align: top;\n",
       "    }\n",
       "\n",
       "    .dataframe thead th {\n",
       "        text-align: right;\n",
       "    }\n",
       "</style>\n",
       "<table border=\"1\" class=\"dataframe\">\n",
       "  <thead>\n",
       "    <tr style=\"text-align: right;\">\n",
       "      <th></th>\n",
       "      <th>a</th>\n",
       "      <th>b</th>\n",
       "      <th>c</th>\n",
       "      <th>d</th>\n",
       "      <th>e</th>\n",
       "      <th>f</th>\n",
       "      <th>g</th>\n",
       "      <th>h</th>\n",
       "      <th>i</th>\n",
       "      <th>j</th>\n",
       "      <th>...</th>\n",
       "      <th>r</th>\n",
       "      <th>s</th>\n",
       "      <th>t</th>\n",
       "      <th>u</th>\n",
       "      <th>v</th>\n",
       "      <th>w</th>\n",
       "      <th>x</th>\n",
       "      <th>y</th>\n",
       "      <th>z</th>\n",
       "      <th>count</th>\n",
       "    </tr>\n",
       "  </thead>\n",
       "  <tbody>\n",
       "    <tr>\n",
       "      <th>0</th>\n",
       "      <td>1</td>\n",
       "      <td>0</td>\n",
       "      <td>1</td>\n",
       "      <td>4</td>\n",
       "      <td>0</td>\n",
       "      <td>4</td>\n",
       "      <td>0</td>\n",
       "      <td>1</td>\n",
       "      <td>4</td>\n",
       "      <td>0</td>\n",
       "      <td>...</td>\n",
       "      <td>4</td>\n",
       "      <td>0</td>\n",
       "      <td>4</td>\n",
       "      <td>4</td>\n",
       "      <td>4</td>\n",
       "      <td>4</td>\n",
       "      <td>4</td>\n",
       "      <td>0</td>\n",
       "      <td>0</td>\n",
       "      <td>4</td>\n",
       "    </tr>\n",
       "    <tr>\n",
       "      <th>1</th>\n",
       "      <td>1</td>\n",
       "      <td>2</td>\n",
       "      <td>0</td>\n",
       "      <td>0</td>\n",
       "      <td>0</td>\n",
       "      <td>0</td>\n",
       "      <td>0</td>\n",
       "      <td>0</td>\n",
       "      <td>0</td>\n",
       "      <td>1</td>\n",
       "      <td>...</td>\n",
       "      <td>0</td>\n",
       "      <td>2</td>\n",
       "      <td>1</td>\n",
       "      <td>0</td>\n",
       "      <td>2</td>\n",
       "      <td>0</td>\n",
       "      <td>0</td>\n",
       "      <td>0</td>\n",
       "      <td>1</td>\n",
       "      <td>2</td>\n",
       "    </tr>\n",
       "    <tr>\n",
       "      <th>2</th>\n",
       "      <td>0</td>\n",
       "      <td>0</td>\n",
       "      <td>0</td>\n",
       "      <td>2</td>\n",
       "      <td>0</td>\n",
       "      <td>0</td>\n",
       "      <td>0</td>\n",
       "      <td>0</td>\n",
       "      <td>0</td>\n",
       "      <td>0</td>\n",
       "      <td>...</td>\n",
       "      <td>2</td>\n",
       "      <td>0</td>\n",
       "      <td>0</td>\n",
       "      <td>0</td>\n",
       "      <td>0</td>\n",
       "      <td>0</td>\n",
       "      <td>0</td>\n",
       "      <td>0</td>\n",
       "      <td>0</td>\n",
       "      <td>5</td>\n",
       "    </tr>\n",
       "    <tr>\n",
       "      <th>3</th>\n",
       "      <td>0</td>\n",
       "      <td>0</td>\n",
       "      <td>0</td>\n",
       "      <td>1</td>\n",
       "      <td>3</td>\n",
       "      <td>1</td>\n",
       "      <td>0</td>\n",
       "      <td>0</td>\n",
       "      <td>0</td>\n",
       "      <td>3</td>\n",
       "      <td>...</td>\n",
       "      <td>3</td>\n",
       "      <td>0</td>\n",
       "      <td>0</td>\n",
       "      <td>0</td>\n",
       "      <td>1</td>\n",
       "      <td>2</td>\n",
       "      <td>3</td>\n",
       "      <td>0</td>\n",
       "      <td>0</td>\n",
       "      <td>3</td>\n",
       "    </tr>\n",
       "    <tr>\n",
       "      <th>4</th>\n",
       "      <td>2</td>\n",
       "      <td>2</td>\n",
       "      <td>2</td>\n",
       "      <td>2</td>\n",
       "      <td>2</td>\n",
       "      <td>1</td>\n",
       "      <td>1</td>\n",
       "      <td>1</td>\n",
       "      <td>2</td>\n",
       "      <td>1</td>\n",
       "      <td>...</td>\n",
       "      <td>1</td>\n",
       "      <td>1</td>\n",
       "      <td>2</td>\n",
       "      <td>2</td>\n",
       "      <td>2</td>\n",
       "      <td>2</td>\n",
       "      <td>2</td>\n",
       "      <td>2</td>\n",
       "      <td>2</td>\n",
       "      <td>2</td>\n",
       "    </tr>\n",
       "    <tr>\n",
       "      <th>...</th>\n",
       "      <td>...</td>\n",
       "      <td>...</td>\n",
       "      <td>...</td>\n",
       "      <td>...</td>\n",
       "      <td>...</td>\n",
       "      <td>...</td>\n",
       "      <td>...</td>\n",
       "      <td>...</td>\n",
       "      <td>...</td>\n",
       "      <td>...</td>\n",
       "      <td>...</td>\n",
       "      <td>...</td>\n",
       "      <td>...</td>\n",
       "      <td>...</td>\n",
       "      <td>...</td>\n",
       "      <td>...</td>\n",
       "      <td>...</td>\n",
       "      <td>...</td>\n",
       "      <td>...</td>\n",
       "      <td>...</td>\n",
       "      <td>...</td>\n",
       "    </tr>\n",
       "    <tr>\n",
       "      <th>483</th>\n",
       "      <td>4</td>\n",
       "      <td>1</td>\n",
       "      <td>4</td>\n",
       "      <td>1</td>\n",
       "      <td>0</td>\n",
       "      <td>1</td>\n",
       "      <td>1</td>\n",
       "      <td>1</td>\n",
       "      <td>4</td>\n",
       "      <td>1</td>\n",
       "      <td>...</td>\n",
       "      <td>1</td>\n",
       "      <td>0</td>\n",
       "      <td>1</td>\n",
       "      <td>2</td>\n",
       "      <td>1</td>\n",
       "      <td>1</td>\n",
       "      <td>0</td>\n",
       "      <td>0</td>\n",
       "      <td>1</td>\n",
       "      <td>4</td>\n",
       "    </tr>\n",
       "    <tr>\n",
       "      <th>484</th>\n",
       "      <td>3</td>\n",
       "      <td>0</td>\n",
       "      <td>3</td>\n",
       "      <td>3</td>\n",
       "      <td>3</td>\n",
       "      <td>3</td>\n",
       "      <td>3</td>\n",
       "      <td>0</td>\n",
       "      <td>0</td>\n",
       "      <td>3</td>\n",
       "      <td>...</td>\n",
       "      <td>3</td>\n",
       "      <td>3</td>\n",
       "      <td>3</td>\n",
       "      <td>3</td>\n",
       "      <td>3</td>\n",
       "      <td>3</td>\n",
       "      <td>0</td>\n",
       "      <td>3</td>\n",
       "      <td>0</td>\n",
       "      <td>3</td>\n",
       "    </tr>\n",
       "    <tr>\n",
       "      <th>485</th>\n",
       "      <td>1</td>\n",
       "      <td>1</td>\n",
       "      <td>3</td>\n",
       "      <td>2</td>\n",
       "      <td>1</td>\n",
       "      <td>1</td>\n",
       "      <td>1</td>\n",
       "      <td>1</td>\n",
       "      <td>2</td>\n",
       "      <td>1</td>\n",
       "      <td>...</td>\n",
       "      <td>1</td>\n",
       "      <td>1</td>\n",
       "      <td>1</td>\n",
       "      <td>1</td>\n",
       "      <td>0</td>\n",
       "      <td>1</td>\n",
       "      <td>1</td>\n",
       "      <td>1</td>\n",
       "      <td>1</td>\n",
       "      <td>3</td>\n",
       "    </tr>\n",
       "    <tr>\n",
       "      <th>486</th>\n",
       "      <td>1</td>\n",
       "      <td>2</td>\n",
       "      <td>1</td>\n",
       "      <td>0</td>\n",
       "      <td>0</td>\n",
       "      <td>2</td>\n",
       "      <td>1</td>\n",
       "      <td>5</td>\n",
       "      <td>0</td>\n",
       "      <td>1</td>\n",
       "      <td>...</td>\n",
       "      <td>2</td>\n",
       "      <td>0</td>\n",
       "      <td>1</td>\n",
       "      <td>1</td>\n",
       "      <td>1</td>\n",
       "      <td>1</td>\n",
       "      <td>1</td>\n",
       "      <td>1</td>\n",
       "      <td>1</td>\n",
       "      <td>5</td>\n",
       "    </tr>\n",
       "    <tr>\n",
       "      <th>487</th>\n",
       "      <td>3</td>\n",
       "      <td>0</td>\n",
       "      <td>0</td>\n",
       "      <td>0</td>\n",
       "      <td>0</td>\n",
       "      <td>3</td>\n",
       "      <td>0</td>\n",
       "      <td>0</td>\n",
       "      <td>0</td>\n",
       "      <td>0</td>\n",
       "      <td>...</td>\n",
       "      <td>3</td>\n",
       "      <td>0</td>\n",
       "      <td>0</td>\n",
       "      <td>3</td>\n",
       "      <td>0</td>\n",
       "      <td>0</td>\n",
       "      <td>0</td>\n",
       "      <td>0</td>\n",
       "      <td>0</td>\n",
       "      <td>3</td>\n",
       "    </tr>\n",
       "  </tbody>\n",
       "</table>\n",
       "<p>488 rows × 27 columns</p>\n",
       "</div>"
      ],
      "text/plain": [
       "     a  b  c  d  e  f  g  h  i  j  ...  r  s  t  u  v  w  x  y  z  count\n",
       "0    1  0  1  4  0  4  0  1  4  0  ...  4  0  4  4  4  4  4  0  0      4\n",
       "1    1  2  0  0  0  0  0  0  0  1  ...  0  2  1  0  2  0  0  0  1      2\n",
       "2    0  0  0  2  0  0  0  0  0  0  ...  2  0  0  0  0  0  0  0  0      5\n",
       "3    0  0  0  1  3  1  0  0  0  3  ...  3  0  0  0  1  2  3  0  0      3\n",
       "4    2  2  2  2  2  1  1  1  2  1  ...  1  1  2  2  2  2  2  2  2      2\n",
       "..  .. .. .. .. .. .. .. .. .. ..  ... .. .. .. .. .. .. .. .. ..    ...\n",
       "483  4  1  4  1  0  1  1  1  4  1  ...  1  0  1  2  1  1  0  0  1      4\n",
       "484  3  0  3  3  3  3  3  0  0  3  ...  3  3  3  3  3  3  0  3  0      3\n",
       "485  1  1  3  2  1  1  1  1  2  1  ...  1  1  1  1  0  1  1  1  1      3\n",
       "486  1  2  1  0  0  2  1  5  0  1  ...  2  0  1  1  1  1  1  1  1      5\n",
       "487  3  0  0  0  0  3  0  0  0  0  ...  3  0  0  3  0  0  0  0  0      3\n",
       "\n",
       "[488 rows x 27 columns]"
      ]
     },
     "execution_count": 21,
     "metadata": {},
     "output_type": "execute_result"
    }
   ],
   "source": [
    "df = cudf.from_pandas(pd.DataFrame(groups))\n",
    "df"
   ]
  },
  {
   "cell_type": "code",
   "execution_count": 28,
   "metadata": {},
   "outputs": [],
   "source": [
    "groups_array = df.as_gpu_matrix()"
   ]
  },
  {
   "cell_type": "markdown",
   "metadata": {},
   "source": [
    "## Part 1"
   ]
  },
  {
   "cell_type": "code",
   "execution_count": 31,
   "metadata": {},
   "outputs": [],
   "source": [
    "from numba import cuda\n",
    "import numpy as np"
   ]
  },
  {
   "cell_type": "code",
   "execution_count": 35,
   "metadata": {},
   "outputs": [],
   "source": [
    "@cuda.jit\n",
    "def count_group_answers(groups_array, output):\n",
    "    pos = cuda.grid(1)\n",
    "    if pos < len(groups_array):\n",
    "        for answer in groups_array[pos][0:-1]:\n",
    "            if answer > 0:\n",
    "                output[pos] += 1"
   ]
  },
  {
   "cell_type": "code",
   "execution_count": 36,
   "metadata": {},
   "outputs": [],
   "source": [
    "threadsperblock = 128\n",
    "blockspergrid = (len(groups_array) + (threadsperblock - 1)) // threadsperblock"
   ]
  },
  {
   "cell_type": "code",
   "execution_count": 37,
   "metadata": {},
   "outputs": [
    {
     "data": {
      "text/plain": [
       "array([16., 10.,  3., 12., 25.,  8., 11., 11., 12., 24.,  5., 19., 19.,\n",
       "       12., 26., 10., 18.,  7., 15.,  9.,  5., 24., 26., 15., 13.,  4.,\n",
       "       26.,  9., 18., 20., 12., 16., 17., 11., 19., 21., 11., 10., 17.,\n",
       "        9.,  6., 14.,  7.,  9., 10.,  2., 19., 24., 24., 17.,  9., 13.,\n",
       "       13., 16.,  1.,  6., 21., 13., 22.,  1., 17., 16., 22., 12.,  5.,\n",
       "       13.,  9.,  3.,  7.,  8., 21., 24.,  7., 16.,  3., 20., 17.,  3.,\n",
       "       21., 10., 17.,  9., 14., 26.,  2., 23., 20., 18.,  4.,  5., 26.,\n",
       "       14., 17., 24., 22., 12., 25.,  2., 20., 10., 15., 23., 13., 23.,\n",
       "       15.,  7., 22.,  1., 18., 13., 22., 13.,  8.,  3., 25., 22.,  3.,\n",
       "       13.,  5., 17., 12., 17., 24., 11., 14., 11.,  2.,  7.,  8.,  2.,\n",
       "       14.,  7., 23., 21.,  7., 14., 10.,  4., 15., 19., 21.,  6., 11.,\n",
       "       25., 21., 20., 22., 13., 24., 24.,  3., 14., 21.,  9., 25.,  4.,\n",
       "       26., 23., 14., 13., 11., 25., 21., 26., 24.,  3., 21.,  7., 21.,\n",
       "       18., 25., 21.,  7.,  3., 17.,  5., 19., 14., 17., 10., 10., 18.,\n",
       "       16.,  5.,  4., 20., 14.,  6., 10., 21., 17.,  9., 25., 22.,  2.,\n",
       "       15., 13., 26., 26., 20., 16., 20., 15., 19., 19.,  3., 26., 17.,\n",
       "        8.,  7.,  9.,  8., 18., 21.,  8., 14., 16., 17., 19.,  8., 17.,\n",
       "       18., 17., 22.,  6.,  7., 16., 18.,  2.,  2., 20., 13.,  5.,  3.,\n",
       "       10., 19., 15., 21.,  6., 19., 14., 11., 19., 22.,  5., 26., 20.,\n",
       "       22., 15., 13., 21.,  7., 21., 14.,  5.,  5.,  5., 18., 23.,  9.,\n",
       "       24., 12., 12., 20., 12., 20.,  7.,  3., 13.,  4., 18., 11., 26.,\n",
       "        1.,  5., 15.,  4., 25., 23., 22., 25., 26., 21., 17., 18.,  2.,\n",
       "        6., 26.,  2., 17.,  4.,  8., 18., 13., 24.,  9., 20.,  4., 14.,\n",
       "       19., 24., 15., 14., 13.,  6., 15., 15., 11., 15.,  4., 18., 11.,\n",
       "        8., 24., 21.,  5., 13., 22., 10., 23.,  7., 20., 25., 18.,  5.,\n",
       "       12., 24.,  8.,  6., 17.,  8., 11.,  6., 17., 15., 20., 25., 25.,\n",
       "       25., 21., 12.,  9., 21.,  7., 13.,  2., 17., 25.,  4.,  1.,  6.,\n",
       "       21., 16.,  4., 16., 10.,  9., 22.,  4., 18.,  2., 14.,  5., 15.,\n",
       "       12.,  7., 23.,  6., 14.,  9., 22.,  9., 24., 14., 19., 10., 24.,\n",
       "        5., 18.,  9., 13.,  4.,  9., 15.,  3., 10., 20.,  7.,  3., 12.,\n",
       "       19., 10., 20., 22., 17., 12.,  3., 25., 15., 26.,  3., 26.,  3.,\n",
       "        9., 17.,  2., 26., 26.,  4., 20., 19.,  1.,  7.,  9., 13., 20.,\n",
       "       11., 15., 19., 22., 10., 17., 21., 20., 11.,  2., 10., 18., 16.,\n",
       "       26., 16., 10.,  5., 25.,  2., 24.,  3., 26., 11.,  4., 11., 22.,\n",
       "       12., 20., 12., 11., 23.,  8.,  3.,  4., 23.,  4., 16., 10.,  6.,\n",
       "        3., 23., 14.,  1., 12., 25.,  7.,  5., 22., 24.,  5., 10.,  3.,\n",
       "       16.,  5.,  5., 12., 17.,  9., 17.,  1., 13., 15.,  4.,  6., 16.,\n",
       "       17.,  8., 22., 20., 24., 20.,  7.])"
      ]
     },
     "execution_count": 37,
     "metadata": {},
     "output_type": "execute_result"
    }
   ],
   "source": [
    "output = np.zeros(len(groups_array))\n",
    "count_group_answers[blockspergrid, threadsperblock](groups_array, output)\n",
    "output"
   ]
  },
  {
   "cell_type": "code",
   "execution_count": 38,
   "metadata": {},
   "outputs": [
    {
     "data": {
      "text/plain": [
       "6778.0"
      ]
     },
     "execution_count": 38,
     "metadata": {},
     "output_type": "execute_result"
    }
   ],
   "source": [
    "sum(output)"
   ]
  },
  {
   "cell_type": "markdown",
   "metadata": {},
   "source": [
    "## Part 2"
   ]
  },
  {
   "cell_type": "code",
   "execution_count": 39,
   "metadata": {},
   "outputs": [],
   "source": [
    "@cuda.jit\n",
    "def count_group_all_answers(groups_array, output):\n",
    "    pos = cuda.grid(1)\n",
    "    if pos < len(groups_array):\n",
    "        for answer in groups_array[pos][0:-1]:\n",
    "            if answer == groups_array[pos][-1]:\n",
    "                output[pos] += 1"
   ]
  },
  {
   "cell_type": "code",
   "execution_count": 40,
   "metadata": {},
   "outputs": [
    {
     "data": {
      "text/plain": [
       "array([11.,  3.,  0.,  5., 19.,  2.,  0.,  6.,  9., 21.,  0., 14., 18.,\n",
       "       10., 26.,  3., 13.,  5.,  3.,  8.,  2.,  2., 26.,  3., 10.,  3.,\n",
       "        2.,  1., 11., 11.,  1.,  5.,  6.,  2.,  9., 19.,  6.,  5., 10.,\n",
       "        2.,  2.,  1.,  4.,  8.,  0.,  2., 13., 23., 21.,  5.,  3., 12.,\n",
       "        4., 16.,  1.,  1.,  7.,  8.,  2.,  1.,  9., 12., 17.,  3.,  5.,\n",
       "        2.,  4.,  2.,  1.,  6.,  1.,  7.,  2., 10.,  0., 12., 14.,  3.,\n",
       "       11., 10., 11.,  8.,  0., 12.,  2.,  8.,  4., 11.,  4.,  0., 24.,\n",
       "       14.,  0., 12.,  4.,  7.,  9.,  0.,  8.,  2.,  0., 17., 12.,  8.,\n",
       "        5.,  3.,  0.,  1.,  6., 13., 10.,  7.,  7.,  1.,  4.,  1.,  0.,\n",
       "       10.,  4., 14.,  3., 13., 12., 11., 12.,  4.,  0.,  0.,  3.,  0.,\n",
       "       13.,  5., 11., 21.,  3.,  1.,  9.,  2.,  2.,  2., 10.,  2., 10.,\n",
       "       10.,  3.,  1., 11.,  9., 21., 11.,  3.,  5., 20.,  0.,  5.,  3.,\n",
       "        6.,  8.,  5., 13.,  4., 10., 14.,  5., 15.,  2.,  8.,  5.,  1.,\n",
       "        1., 15.,  5.,  4.,  1., 14.,  3.,  9.,  7.,  3.,  3.,  9., 18.,\n",
       "        4.,  3.,  0., 10., 12.,  5., 10., 11.,  2.,  2.,  4., 17.,  1.,\n",
       "        7.,  5., 10., 19.,  8.,  4.,  7., 13.,  3., 19.,  1.,  8.,  2.,\n",
       "        8.,  5.,  4.,  0., 17.,  9.,  2.,  2.,  9.,  1.,  7.,  0., 13.,\n",
       "        9.,  3., 19.,  1.,  0., 13., 10.,  0.,  0., 16.,  6.,  3.,  2.,\n",
       "        7., 16.,  3.,  3.,  0., 16.,  3.,  9.,  8., 12.,  5.,  8., 15.,\n",
       "        7., 10.,  8., 18.,  6., 15.,  4.,  4.,  1.,  2., 17., 20.,  2.,\n",
       "        0., 10.,  9.,  4., 12.,  5.,  3.,  2.,  7.,  4.,  8.,  4., 23.,\n",
       "        1.,  4., 13.,  1., 22., 23.,  4., 17.,  0., 15., 12.,  2.,  0.,\n",
       "        6., 20.,  2., 16.,  1.,  8., 14.,  0., 24.,  0., 19.,  4.,  3.,\n",
       "       15., 12.,  2., 10.,  5.,  6.,  5.,  5.,  2., 12.,  2.,  6.,  7.,\n",
       "        4.,  7.,  8.,  0.,  9.,  6.,  9.,  4.,  1., 17., 12.,  6.,  1.,\n",
       "        8., 13.,  3.,  0., 16.,  5.,  3.,  2.,  9.,  5.,  4.,  4., 15.,\n",
       "        2.,  3.,  9.,  1., 12.,  1., 11.,  1., 11., 13.,  0.,  1.,  5.,\n",
       "       21.,  5.,  2.,  0.,  8.,  4.,  5.,  2., 17.,  2.,  9.,  5., 14.,\n",
       "        4.,  5., 12.,  2., 12.,  4.,  0.,  9., 16.,  7., 11.,  7.,  5.,\n",
       "        3.,  7.,  5.,  4.,  0.,  9.,  8.,  2., 10.,  9.,  0.,  0.,  8.,\n",
       "       12.,  3., 14.,  3., 11.,  0.,  2.,  7., 14.,  5.,  0., 26.,  3.,\n",
       "        5.,  5.,  1., 25., 25.,  4.,  6., 13.,  1.,  2.,  2.,  4.,  1.,\n",
       "       10., 14., 15.,  6.,  2.,  4., 14.,  4.,  2.,  0.,  8.,  0.,  0.,\n",
       "        0., 11.,  2.,  4., 16.,  2.,  6.,  0., 19.,  4.,  3.,  9., 10.,\n",
       "        6.,  1., 12.,  3., 14.,  4.,  3.,  0., 14.,  2.,  6., 10.,  6.,\n",
       "        3., 19.,  6.,  1.,  9.,  2.,  7.,  1., 22., 11.,  5.,  7.,  3.,\n",
       "       16.,  0.,  1., 12.,  1.,  8., 11.,  1.,  7., 13.,  4.,  3.,  6.,\n",
       "        0.,  4.,  4., 20.,  1.,  2.,  7.])"
      ]
     },
     "execution_count": 40,
     "metadata": {},
     "output_type": "execute_result"
    }
   ],
   "source": [
    "output = np.zeros(len(groups_array))\n",
    "count_group_all_answers[blockspergrid, threadsperblock](groups_array, output)\n",
    "output"
   ]
  },
  {
   "cell_type": "code",
   "execution_count": 41,
   "metadata": {},
   "outputs": [
    {
     "data": {
      "text/plain": [
       "3406.0"
      ]
     },
     "execution_count": 41,
     "metadata": {},
     "output_type": "execute_result"
    }
   ],
   "source": [
    "sum(output)"
   ]
  }
 ],
 "metadata": {
  "kernelspec": {
   "display_name": "Python 3",
   "language": "python",
   "name": "python3"
  },
  "language_info": {
   "codemirror_mode": {
    "name": "ipython",
    "version": 3
   },
   "file_extension": ".py",
   "mimetype": "text/x-python",
   "name": "python",
   "nbconvert_exporter": "python",
   "pygments_lexer": "ipython3",
   "version": "3.8.6"
  }
 },
 "nbformat": 4,
 "nbformat_minor": 4
}
